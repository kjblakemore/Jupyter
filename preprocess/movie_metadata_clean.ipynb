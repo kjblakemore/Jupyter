{
 "cells": [
  {
   "cell_type": "markdown",
   "metadata": {},
   "source": [
    "# Preprocess Movie Metadata Clean\n",
    "This notefile converts the list columns to one-hot-encoded columns."
   ]
  },
  {
   "cell_type": "code",
   "execution_count": null,
   "metadata": {
    "scrolled": false
   },
   "outputs": [],
   "source": [
    "import pandas as pd\n",
    "import ast\n",
    "import json\n",
    "\n",
    "DATA_DIR_NAME = '/Users/karenblakemore/merck/data/'\n",
    "DATA_SET_NAME = 'movie_metadata_clean'\n",
    "LIST_COLUMNS = ('genres', 'plot_keywords') \n",
    "\n",
    "pdf = pd.read_csv(DATA_DIR_NAME + DATA_SET_NAME + '.csv', encoding='latin-1')\n",
    "\n",
    "for col in LIST_COLUMNS:\n",
    "    print(col)\n",
    "    column = pdf[col].apply(lambda x: str(x).split('|'))\n",
    "    dummy_columns = pd.get_dummies(column.apply(pd.Series).stack(), prefix=col, prefix_sep='-') \\\n",
    "                                .sum(level=0) \\\n",
    "                                .astype('str') \\\n",
    "                                .replace('0', '')\n",
    "    pdf = pdf.drop([col], axis=1)\n",
    "    pdf = pd.concat([pdf, dummy_columns], axis=1)\n",
    "           \n",
    "display(pdf.head())\n",
    "\n",
    "pdf.to_csv(DATA_DIR_NAME + DATA_SET_NAME + '_prepped.csv', index=False)"
   ]
  },
  {
   "cell_type": "code",
   "execution_count": null,
   "metadata": {
    "scrolled": true
   },
   "outputs": [],
   "source": []
  }
 ],
 "metadata": {
  "kernelspec": {
   "display_name": "Python 3",
   "language": "python",
   "name": "python3"
  },
  "language_info": {
   "codemirror_mode": {
    "name": "ipython",
    "version": 3
   },
   "file_extension": ".py",
   "mimetype": "text/x-python",
   "name": "python",
   "nbconvert_exporter": "python",
   "pygments_lexer": "ipython3",
   "version": "3.5.4"
  }
 },
 "nbformat": 4,
 "nbformat_minor": 2
}

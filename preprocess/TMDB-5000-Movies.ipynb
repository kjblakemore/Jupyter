{
 "cells": [
  {
   "cell_type": "markdown",
   "metadata": {},
   "source": [
    "# Preprocess TMDB 5000 Movies\n",
    "This notefile converts the list columns to one-hot-encoded columns.  Preserving only the name member of the json objects in the list.  The id members are not kept, since those are redundant."
   ]
  },
  {
   "cell_type": "code",
   "execution_count": null,
   "metadata": {
    "scrolled": false
   },
   "outputs": [],
   "source": [
    "import pandas as pd\n",
    "import ast\n",
    "import json\n",
    "\n",
    "DATA_DIR_NAME = '/Users/karenblakemore/merck/data/'\n",
    "DATA_SET_NAME = 'tmdb_5000_movies'\n",
    "COLUMNS = ['budget', 'genres', 'homepage', 'id', 'keywords', 'original_language', 'original_title', 'overview',\n",
    "           'popularity', 'production_companies', 'production_countries', 'spoken_languages',\n",
    "           'release_date', 'revenue', 'runtime', 'status', 'tagline', 'title', 'vote_average', 'vote_count']\n",
    "\n",
    "def list_column(value):\n",
    "    try:\n",
    "        isinstance(ast.literal_eval(value), list)\n",
    "        return True\n",
    "    except:\n",
    "        return False\n",
    "    \n",
    "def dict_to_string(value):\n",
    "    string_list = []\n",
    "    for dict_value in json.loads(value):\n",
    "        string_list.append((dict_value['name'].lower()))\n",
    "    return(string_list)            \n",
    "\n",
    "pdf = pd.read_csv(DATA_DIR_NAME + DATA_SET_NAME + '.csv')\n",
    "\n",
    "pdf_prepped = pd.DataFrame()\n",
    "\n",
    "for col in COLUMNS:\n",
    "    print(pdf[col].describe())\n",
    "    \n",
    "    if(pdf[col].apply(list_column).all()):\n",
    "        print('\\nLIST COLUMN: ', col, '\\n')\n",
    "        column = pdf[col].apply(dict_to_string)\n",
    "        \n",
    "        dummy_columns = pd.get_dummies(column.apply(pd.Series).stack(), \\\n",
    "                                            prefix=col, prefix_sep='-') \\\n",
    "                                .sum(level=0) \\\n",
    "                                .astype('str') \\\n",
    "                                .replace('0', '')\n",
    "        pdf_prepped = pd.concat([pdf_prepped, dummy_columns], axis=1)\n",
    "    else:\n",
    "        pdf_prepped = pd.concat([pdf_prepped, pdf[col]], axis=1)\n",
    "           \n",
    "display(pdf_prepped.head())\n",
    "\n",
    "pdf_prepped = pdf_prepped\n",
    "\n",
    "pdf_prepped.to_csv(DATA_DIR_NAME + DATA_SET_NAME + '_prepped.csv', index=False)"
   ]
  },
  {
   "cell_type": "code",
   "execution_count": null,
   "metadata": {
    "scrolled": true
   },
   "outputs": [],
   "source": []
  }
 ],
 "metadata": {
  "kernelspec": {
   "display_name": "Python 3",
   "language": "python",
   "name": "python3"
  },
  "language_info": {
   "codemirror_mode": {
    "name": "ipython",
    "version": 3
   },
   "file_extension": ".py",
   "mimetype": "text/x-python",
   "name": "python",
   "nbconvert_exporter": "python",
   "pygments_lexer": "ipython3",
   "version": "3.5.4"
  }
 },
 "nbformat": 4,
 "nbformat_minor": 2
}

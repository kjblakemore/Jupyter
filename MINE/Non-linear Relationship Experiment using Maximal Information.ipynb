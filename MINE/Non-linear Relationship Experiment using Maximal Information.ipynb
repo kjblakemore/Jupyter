{
 "cells": [
  {
   "cell_type": "markdown",
   "metadata": {},
   "source": [
    "The intent of this experiment is to determine if Maximal Information Correlations can be used to identify non-linear relationships."
   ]
  },
  {
   "cell_type": "code",
   "execution_count": null,
   "metadata": {},
   "outputs": [],
   "source": [
    "import pandas as pd\n",
    "import numpy as np\n",
    "\n",
    "import scipy.stats as stats\n",
    "\n",
    "import matplotlib.pyplot as plt\n",
    "import seaborn as sns\n",
    "\n",
    "from itertools import combinations\n",
    "\n",
    "from minepy import MINE\n",
    "\n",
    "DATA_DIR_NAME = '/Users/karenblakemore/Koverse/data/'\n",
    "\n",
    "plt.rcParams.update({'figure.max_open_warning': 0})"
   ]
  },
  {
   "cell_type": "markdown",
   "metadata": {},
   "source": [
    "## Function to calculate MIC and Spearman coefficients for a data set."
   ]
  },
  {
   "cell_type": "code",
   "execution_count": null,
   "metadata": {},
   "outputs": [],
   "source": [
    "CORRELATION_COLUMNS = ['x', 'y', 'MIC', 'Spearman']\n",
    "\n",
    "def calculate_coefficients(pdf, filter_zeros):\n",
    "    # Create pairs of all columns\n",
    "    pairs = combinations(list(pdf.columns.values), 2)\n",
    "\n",
    "    # Correlations dataframe\n",
    "    correlations_pdf = pd.DataFrame(columns=CORRELATION_COLUMNS)\n",
    "\n",
    "    # Intialize MINE parameters\n",
    "    mine = MINE(alpha=.6, c=15, est=\"mic_approx\")\n",
    "\n",
    "    # Calculate MIC and Spearman \n",
    "    for idx, pair in enumerate(pairs):\n",
    "        pair_pdf = pdf[[pair[0], pair[1]]]\n",
    "        \n",
    "        # Filter-out rows with zero values\n",
    "        if(filter_zeros):\n",
    "            pair_pdf = pair_pdf.loc[~(pair_pdf==0).any(axis=1)]\n",
    "\n",
    "        mine.compute_score(pair_pdf[pair[0]], pair_pdf[pair[1]])\n",
    "        mic = mine.mic()\n",
    "        rho, p_value = stats.spearmanr(pair_pdf[pair[0]], pair_pdf[pair[1]])\n",
    "\n",
    "        correlation = { 'x': pair[0], \n",
    "                        'y': pair[1], \n",
    "                        'MIC': mic,\n",
    "                        'Spearman': rho}\n",
    "\n",
    "        correlations_pdf = correlations_pdf.append(correlation, ignore_index=True)\n",
    "\n",
    "        # print every 10 calculations    \n",
    "        if(idx%10 == 0):   \n",
    "            print(idx, mic, rho, pair[0], pair[1])\n",
    "    \n",
    "    # Sort by difference between MIC & Spearman\n",
    "    correlations_pdf['correlation_difference'] = correlations_pdf['MIC'] - abs(correlations_pdf['Spearman'])\n",
    "    correlations_pdf.sort_values(by=['correlation_difference'], ascending=False, inplace=True)\n",
    "    \n",
    "    print(correlations_pdf.shape)\n",
    "    correlations_pdf.describe()\n",
    "    display(correlations_pdf.head())\n",
    "    \n",
    "    return correlations_pdf   \n",
    "            "
   ]
  },
  {
   "cell_type": "markdown",
   "metadata": {},
   "source": [
    "## Function to plot correlations"
   ]
  },
  {
   "cell_type": "code",
   "execution_count": null,
   "metadata": {},
   "outputs": [],
   "source": [
    "def plot_correlations(correlation_pdf, filter_zeros):\n",
    "    for i in range(0,300,3):\n",
    "        fig, (ax1, ax2, ax3) = plt.subplots(ncols=3, figsize=(15,5))\n",
    "        plt.subplots_adjust(wspace=.4)  # adjust vertical space between plots\n",
    "\n",
    "        pair_pdf = pdf[[correlations_pdf.iloc[i]['x'], correlations_pdf.iloc[i]['y']]]\n",
    "        if(filter_zeros):\n",
    "            pair_pdf = pair_pdf.loc[~(pair_pdf==0).any(axis=1)]\n",
    "        ax1.set_title('MIC {:.6f}  Spearman {:.6f}'.format(correlations_pdf.iloc[i]['MIC'], correlations_pdf.iloc[i]['Spearman']))\n",
    "        sns.scatterplot(x=correlations_pdf.iloc[i]['x'], y=correlations_pdf.iloc[i]['y'], data=pair_pdf, ax=ax1)\n",
    "\n",
    "        pair_pdf = pdf[[correlations_pdf.iloc[i+1]['x'], correlations_pdf.iloc[i+1]['y']]]\n",
    "        if(filter_zeros):\n",
    "            pair_pdf = pair_pdf.loc[~(pair_pdf==0).any(axis=1)]\n",
    "        ax2.set_title('MIC {:.6f}  Spearman {:.6f}'.format(correlations_pdf.iloc[i+1]['MIC'], correlations_pdf.iloc[i+1]['Spearman']))\n",
    "        sns.scatterplot(x=correlations_pdf.iloc[i+1]['x'], y=correlations_pdf.iloc[i+1]['y'], data=pair_pdf, ax=ax2)\n",
    "\n",
    "        pair_pdf = pdf[[correlations_pdf.iloc[i+2]['x'], correlations_pdf.iloc[i+2]['y']]]\n",
    "        if(filter_zeros):\n",
    "            pair_pdf = pair_pdf.loc[~(pair_pdf==0).any(axis=1)]\n",
    "        ax3.set_title('MIC {:.6f}  Spearman {:.6f}'.format(correlations_pdf.iloc[i+2]['MIC'], correlations_pdf.iloc[i+2]['Spearman']))\n",
    "        sns.scatterplot(x=correlations_pdf.iloc[i+2]['x'], y=correlations_pdf.iloc[i+2]['y'], data=pair_pdf, ax=ax3)"
   ]
  },
  {
   "cell_type": "markdown",
   "metadata": {},
   "source": [
    "## Assay Matrix Experiment\n",
    "Compute correlations for pairs of assays relative to chemical reactions.  Data Set is the [ToxCast & Tox21 Data Spreadsheet](https://www.epa.gov/chemical-research/toxicity-forecaster-toxcasttm-data)"
   ]
  },
  {
   "cell_type": "code",
   "execution_count": null,
   "metadata": {
    "scrolled": true
   },
   "outputs": [],
   "source": [
    "# Load data set\n",
    "DATA_SET_NAME = 'zscore_Matrix_151020'\n",
    "pdf = pd.read_csv(DATA_DIR_NAME + DATA_SET_NAME + '.csv', index_col=0, encoding='latin-1')\n",
    "print(pdf.shape)\n",
    "\n",
    "# Impute missing values with zero\n",
    "pdf = pdf.fillna(0)\n",
    "\n",
    "# Drop columns with all zeros\n",
    "pdf = pdf.loc[:, (pdf != 0).any(axis=0)]\n",
    "\n",
    "pdf.describe()\n",
    "print(pdf.shape)\n",
    "display(pdf.head())\n",
    "\n",
    "# Calculate or load pre-calculated coefficients\n",
    "#correlations_pdf = calculate_coefficients(pdf, True)\n",
    "#correlations_pdf.to_csv(DATA_DIR_NAME + DATA_SET_NAME + '_correlations.csv', index=False)\n",
    "correlations_pdf = pd.read_csv(DATA_DIR_NAME + DATA_SET_NAME + '_correlations.csv', encoding='latin-1')\n",
    "display(correlations_pdf.head())\n",
    "\n",
    "# Plot correlations\n",
    "plot_correlations(correlations_pdf, False)"
   ]
  },
  {
   "cell_type": "markdown",
   "metadata": {},
   "source": [
    "## Basketball Statistics Test\n",
    "Compute correlations for [NBA Players stats since 1950](https://www.kaggle.com/drgilermo/nba-players-stats/home)"
   ]
  },
  {
   "cell_type": "code",
   "execution_count": null,
   "metadata": {
    "collapsed": true
   },
   "outputs": [],
   "source": [
    "# Load dta set\n",
    "DATA_SET_NAME = 'season_stats'\n",
    "pdf = pd.read_csv(DATA_DIR_NAME + DATA_SET_NAME + '.csv', encoding='latin-1')\n",
    "\n",
    "# Imput missing values with mean\n",
    "pdf = pdf.fillna(pdf.mean())\n",
    "\n",
    "# Drop string columns\n",
    "pdf = pdf.drop(['blank2', 'blanl', 'Player', 'Pos', 'Tm'], axis=1)\n",
    "pdf.describe()\n",
    "print(pdf.shape)\n",
    "display(pdf.head())\n",
    "\n",
    "# Compute correlations or load pre-calculated ones\n",
    "#correlations_pdf = calculate_coefficients(pdf, False)\n",
    "#correlations_pdf.to_csv(DATA_DIR_NAME + DATA_SET_NAME + '_correlations.csv', index=False)\n",
    "correlations_pdf = pd.read_csv(DATA_DIR_NAME + DATA_SET_NAME + '_correlations.csv', encoding='latin-1')\n",
    "display(correlations_pdf.head())\n",
    "\n",
    "# Plot correlations\n",
    "plot_correlations(correlations_pdf, False)"
   ]
  },
  {
   "cell_type": "code",
   "execution_count": null,
   "metadata": {},
   "outputs": [],
   "source": []
  }
 ],
 "metadata": {
  "kernelspec": {
   "display_name": "Python 3",
   "language": "python",
   "name": "python3"
  },
  "language_info": {
   "codemirror_mode": {
    "name": "ipython",
    "version": 3
   },
   "file_extension": ".py",
   "mimetype": "text/x-python",
   "name": "python",
   "nbconvert_exporter": "python",
   "pygments_lexer": "ipython3",
   "version": "3.5.4"
  }
 },
 "nbformat": 4,
 "nbformat_minor": 2
}

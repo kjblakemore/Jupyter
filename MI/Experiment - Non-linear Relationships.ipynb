{
 "cells": [
  {
   "cell_type": "markdown",
   "metadata": {},
   "source": [
    "Compare pair-wise correlation algorithms for continuous variables.  Algorithms are MIC, Spearman and Pearson.  Data set is [NBA Players stats since 1950](https://www.kaggle.com/drgilermo/nba-players-stats/home). "
   ]
  },
  {
   "cell_type": "code",
   "execution_count": null,
   "metadata": {
    "scrolled": true
   },
   "outputs": [],
   "source": [
    "import pandas as pd\n",
    "import numpy as np\n",
    "from sklearn.feature_selection import f_regression, mutual_info_regression\n",
    "\n",
    "import scipy.stats as stats\n",
    "\n",
    "import matplotlib.pyplot as plt\n",
    "import seaborn as sns\n",
    "\n",
    "from itertools import combinations\n",
    "\n",
    "from minepy import MINE\n",
    "\n",
    "DATA_DIR_NAME = '/Users/karenblakemore/Koverse/data/'\n",
    "\n",
    "plt.rcParams.update({'figure.max_open_warning': 0})"
   ]
  },
  {
   "cell_type": "markdown",
   "metadata": {},
   "source": [
    "## Function to calculate correlations"
   ]
  },
  {
   "cell_type": "code",
   "execution_count": null,
   "metadata": {},
   "outputs": [],
   "source": [
    "CORRELATION_COLUMNS = ['x', 'y', 'MIC', 'Spearman', 'Pearson', 'MIC-Spearman', 'Spearman-Pearson']\n",
    "\n",
    "def calculate_coefficients(pdf, filter_nans):\n",
    "    # Create pairs of all columns\n",
    "    pairs = combinations(list(pdf.columns.values), 2)\n",
    "\n",
    "    # Correlations dataframe\n",
    "    correlations_pdf = pd.DataFrame(columns=CORRELATION_COLUMNS)\n",
    "\n",
    "    # Intialize MINE parameters\n",
    "    mine = MINE(alpha=.6, c=15, est=\"mic_approx\")\n",
    "\n",
    "    # Calculate Spearman & Pearson coefficients\n",
    "    print('Calculating MIC, Spearman & Pearson coefficients')\n",
    "    for idx, pair in enumerate(pairs):\n",
    "        pair_pdf = pdf[[pair[0], pair[1]]]  \n",
    "        \n",
    "         # Drop pairs with nan's\n",
    "        pair_pdf = pair_pdf.dropna()\n",
    "        \n",
    "        mine.compute_score(pair_pdf[pair[0]], pair_pdf[pair[1]])\n",
    "        mic = mine.mic()\n",
    "\n",
    "        spearman, _ = stats.spearmanr(pair_pdf[pair[0]], pair_pdf[pair[1]])\n",
    "        pearson, _ = stats.pearsonr(pair_pdf[pair[0]], pair_pdf[pair[1]])\n",
    "        \n",
    "        correlation = { 'x': pair[0], \n",
    "                        'y': pair[1], \n",
    "                        'MIC': mic,\n",
    "                        'Spearman': spearman,\n",
    "                        'Pearson': pearson,\n",
    "                        'MIC-Spearman': -1,\n",
    "                        'Spearman-Pearson': -1}\n",
    "\n",
    "        correlations_pdf = correlations_pdf.append(correlation, ignore_index=True)\n",
    "        \n",
    "        # print every 10 calculations    \n",
    "        if(idx%10 == 0):   \n",
    "            print(idx, mic, spearman, pearson, pair[0], pair[1])\n",
    "    \n",
    "    print(correlations_pdf.shape)\n",
    "    correlations_pdf.describe()\n",
    "    display(correlations_pdf.head())\n",
    "    \n",
    "    return correlations_pdf   "
   ]
  },
  {
   "cell_type": "markdown",
   "metadata": {},
   "source": [
    "## Function to plot correlations"
   ]
  },
  {
   "cell_type": "code",
   "execution_count": null,
   "metadata": {
    "scrolled": true
   },
   "outputs": [],
   "source": [
    "def plot_correlations(correlations_pdf, filter_nans):\n",
    "    \n",
    "    # Number of plots is min of 300 and number of correlations, rounded down to nearest number divisible by 3\n",
    "    number_of_plots = (min(300, correlations_pdf.shape[0]) // 3) * 3\n",
    "    \n",
    "    for i in range(0,number_of_plots,3):\n",
    "        fig, axis = plt.subplots(ncols=3, figsize=(18,6))\n",
    "        plt.subplots_adjust(wspace=.4)  # adjust vertical space between plots\n",
    "\n",
    "        for j in range(3):\n",
    "            pair_pdf = pdf[[correlations_pdf.iloc[i+j]['x'], correlations_pdf.iloc[i+j]['y']]]\n",
    "            if(filter_nans):\n",
    "                pair_pdf = pair_pdf.dropna()\n",
    "            axis[j].set_title('MIC {:.6f}  Spearman {:.6f}  Pearson {:.6f}'.format(correlations_pdf.iloc[i+j]['MIC'], \n",
    "                                                                     correlations_pdf.iloc[i+j]['Spearman'],                          \n",
    "                                                                     correlations_pdf.iloc[i+j]['Pearson']))\n",
    "        \n",
    "            sns.scatterplot(x=correlations_pdf.iloc[i+j]['x'], y=correlations_pdf.iloc[i+j]['y'], \n",
    "                            data=pair_pdf, ax=axis[j])\n",
    "    plt.show()"
   ]
  },
  {
   "cell_type": "markdown",
   "metadata": {},
   "source": [
    "## Function to plot coefficients"
   ]
  },
  {
   "cell_type": "code",
   "execution_count": null,
   "metadata": {},
   "outputs": [],
   "source": [
    "def plot_coefficients(correlations_pdf, x, y):\n",
    "    sns.jointplot(x=x, y=y, data=correlations_pdf, kind=\"kde\");\n",
    "    plt.show()"
   ]
  },
  {
   "cell_type": "markdown",
   "metadata": {},
   "source": [
    "## Basketball Statistics Experiment\n",
    "[NBA Players stats since 1950](https://www.kaggle.com/drgilermo/nba-players-stats/home)"
   ]
  },
  {
   "cell_type": "markdown",
   "metadata": {},
   "source": [
    "### Compute Correlations"
   ]
  },
  {
   "cell_type": "code",
   "execution_count": null,
   "metadata": {
    "scrolled": true
   },
   "outputs": [],
   "source": [
    "# Load data set\n",
    "DATA_SET_NAME = 'season_stats'\n",
    "pdf = pd.read_csv(DATA_DIR_NAME + DATA_SET_NAME + '.csv', encoding='latin-1')\n",
    "\n",
    "# Drop string columns\n",
    "pdf = pdf.drop(['blank2', 'blanl', 'Player', 'Pos', 'Tm'], axis=1)\n",
    "\n",
    "pdf.describe()\n",
    "print(pdf.shape)\n",
    "display(pdf.head())\n",
    "\n",
    "# Compute correlations and save\n",
    "correlations_pdf = calculate_coefficients(pdf, False)\n",
    "correlations_pdf.to_csv(DATA_DIR_NAME + DATA_SET_NAME + '_correlations.csv', index=False)"
   ]
  },
  {
   "cell_type": "markdown",
   "metadata": {},
   "source": [
    "### Plot Correlations"
   ]
  },
  {
   "cell_type": "code",
   "execution_count": null,
   "metadata": {
    "scrolled": true
   },
   "outputs": [],
   "source": [
    "# Load correlations\n",
    "correlations_pdf = pd.read_csv(DATA_DIR_NAME + DATA_SET_NAME + '_correlations.csv', encoding='latin-1')\n",
    "\n",
    "# Plot correlations\n",
    "# Rank by MI - Spearman\n",
    "correlations_pdf['MIC-Spearman'] = correlations_pdf['MIC'] - abs(correlations_pdf['Spearman'])\n",
    "correlations_pdf.sort_values(by=['MIC-Spearman'], ascending=False, inplace=True)\n",
    "print('MIC-Spearman Plots')\n",
    "plot_correlations(correlations_pdf, True)\n",
    "\n",
    "# Rank by Spearman - MI\n",
    "correlations_pdf['Spearman-MIC'] = abs(correlations_pdf['Spearman']) - correlations_pdf['MIC']\n",
    "correlations_pdf.sort_values(by=['Spearman-MIC'], ascending=False, inplace=True)\n",
    "print('Top Spearman-MIC Plots')\n",
    "plot_correlations(correlations_pdf, True)\n",
    "\n",
    "# Rank by MIC\n",
    "correlations_pdf.sort_values(by=['MIC'], ascending=False, inplace=True)\n",
    "print('Top MIC Plots')\n",
    "plot_correlations(correlations_pdf, True)\n",
    "\n",
    "# Rank by Spearman\n",
    "correlations_pdf = correlations_pdf.reindex(correlations_pdf['Spearman'].abs().sort_values(ascending=False).index)\n",
    "print('Top Spearman Plots')\n",
    "plot_correlations(correlations_pdf, True)"
   ]
  },
  {
   "cell_type": "markdown",
   "metadata": {},
   "source": [
    "### Plot VORP correlations"
   ]
  },
  {
   "cell_type": "code",
   "execution_count": null,
   "metadata": {
    "scrolled": true
   },
   "outputs": [],
   "source": [
    "# Plot VORP correlations ranked by maximum coefficient\n",
    "correlations_pdf = pd.read_csv(DATA_DIR_NAME + DATA_SET_NAME + '_correlations.csv', encoding='latin-1')\n",
    "correlations_pdf = correlations_pdf[(correlations_pdf['x'] == 'VORP') |  (correlations_pdf['y'] == 'VORP')]\n",
    "correlations_pdf['VORP-Max-Coefficient'] = correlations_pdf[['MIC', 'Spearman', 'Pearson']].max(axis=1)\n",
    "correlations_pdf.sort_values(by=['VORP-Max-Coefficient'], ascending=False, inplace=True)\n",
    "plot_correlations(correlations_pdf, True)"
   ]
  },
  {
   "cell_type": "markdown",
   "metadata": {},
   "source": [
    "### Plot Correlation Coefficients"
   ]
  },
  {
   "cell_type": "code",
   "execution_count": null,
   "metadata": {
    "scrolled": false
   },
   "outputs": [],
   "source": [
    "# Load correlations\n",
    "correlations_pdf = pd.read_csv(DATA_DIR_NAME + DATA_SET_NAME + '_correlations.csv', encoding='latin-1')\n",
    "\n",
    "# Plot MIC vs Spearman\n",
    "print('MIC vs Spearman Coefficients')\n",
    "plot_coefficients(correlations_pdf, 'MIC', 'Spearman')\n",
    "\n",
    "# Plot Spearman vs Pearson\n",
    "print('Spearman vs Pearson Coefficients')\n",
    "plot_coefficients(correlations_pdf, 'Spearman', 'Pearson')"
   ]
  },
  {
   "cell_type": "markdown",
   "metadata": {},
   "source": [
    "## Plot comparison of MIC, Spearman & Pearson for canonical example"
   ]
  },
  {
   "cell_type": "code",
   "execution_count": null,
   "metadata": {},
   "outputs": [],
   "source": [
    "from __future__ import division\n",
    "\n",
    "rs = np.random.RandomState(seed=0)\n",
    "\n",
    "def mysubplot(x, y, numRows, numCols, plotNum,\n",
    "              xlim=(-4, 4), ylim=(-4, 4)):\n",
    "\n",
    "    r = np.around(stats.pearsonr(x, y)[0], 1)\n",
    "    s = np.around(stats.spearmanr(x, y)[0], 1)\n",
    "  \n",
    "    mine = MINE(alpha=0.6, c=15, est=\"mic_approx\")\n",
    "    mine.compute_score(x, y)\n",
    "    mic = np.around(mine.mic(), 1)\n",
    "    ax = plt.subplot(numRows, numCols, plotNum,\n",
    "                     xlim=xlim, ylim=ylim)\n",
    "    ax.set_title('Pearson=%.1f\\nSpearman=%.1f\\nMIC=%.1f' % (r, s, mic),fontsize=12)\n",
    "    ax.set_frame_on(False)\n",
    "    ax.axes.get_xaxis().set_visible(False)\n",
    "    ax.axes.get_yaxis().set_visible(False)\n",
    "    ax.plot(x, y, ',')\n",
    "    ax.set_xticks([])\n",
    "    ax.set_yticks([])\n",
    "    return ax\n",
    "\n",
    "def rotation(xy, t):\n",
    "    return np.dot(xy, [[np.cos(t), -np.sin(t)], [np.sin(t), np.cos(t)]])\n",
    "\n",
    "def mvnormal(n=1000):\n",
    "    cors = [1.0, 0.8, 0.4, 0.0, -0.4, -0.8, -1.0]\n",
    "    for i, cor in enumerate(cors):\n",
    "        cov = [[1, cor],[cor, 1]]\n",
    "        xy = rs.multivariate_normal([0, 0], cov, n)\n",
    "        mysubplot(xy[:, 0], xy[:, 1], 3, 7, i+1)\n",
    "\n",
    "def rotnormal(n=1000):\n",
    "    ts = [0, np.pi/12, np.pi/6, np.pi/4, np.pi/2-np.pi/6,\n",
    "          np.pi/2-np.pi/12, np.pi/2]\n",
    "    cov = [[1, 1],[1, 1]]\n",
    "    xy = rs.multivariate_normal([0, 0], cov, n)\n",
    "    for i, t in enumerate(ts):\n",
    "        xy_r = rotation(xy, t)\n",
    "        mysubplot(xy_r[:, 0], xy_r[:, 1], 3, 7, i+8)\n",
    "\n",
    "def others(n=1000):\n",
    "    x = rs.uniform(-1, 1, n)\n",
    "    y = 4*(x**2-0.5)**2 + rs.uniform(-1, 1, n)/3\n",
    "    mysubplot(x, y, 3, 7, 15, (-1, 1), (-1/3, 1+1/3))\n",
    "\n",
    "    y = rs.uniform(-1, 1, n)\n",
    "    xy = np.concatenate((x.reshape(-1, 1), y.reshape(-1, 1)), axis=1)\n",
    "    xy = rotation(xy, -np.pi/8)\n",
    "    lim = np.sqrt(2+np.sqrt(2)) / np.sqrt(2)\n",
    "    mysubplot(xy[:, 0], xy[:, 1], 3, 7, 16, (-lim, lim), (-lim, lim))\n",
    "\n",
    "    xy = rotation(xy, -np.pi/8)\n",
    "    lim = np.sqrt(2)\n",
    "    mysubplot(xy[:, 0], xy[:, 1], 3, 7, 17, (-lim, lim), (-lim, lim))\n",
    "\n",
    "    y = 2*x**2 + rs.uniform(-1, 1, n)\n",
    "    mysubplot(x, y, 3, 7, 18, (-1, 1), (-1, 3))\n",
    "\n",
    "    y = (x**2 + rs.uniform(0, 0.5, n)) * \\\n",
    "        np.array([-1, 1])[rs.random_integers(0, 1, size=n)]\n",
    "    mysubplot(x, y, 3, 7, 19, (-1.5, 1.5), (-1.5, 1.5))\n",
    "\n",
    "    y = np.cos(x * np.pi) + rs.uniform(0, 1/8, n)\n",
    "    x = np.sin(x * np.pi) + rs.uniform(0, 1/8, n)\n",
    "    mysubplot(x, y, 3, 7, 20, (-1.5, 1.5), (-1.5, 1.5))\n",
    "\n",
    "    xy1 = np.random.multivariate_normal([3, 3], [[1, 0], [0, 1]], int(n/4))\n",
    "    xy2 = np.random.multivariate_normal([-3, 3], [[1, 0], [0, 1]], int(n/4))\n",
    "    xy3 = np.random.multivariate_normal([-3, -3], [[1, 0], [0, 1]], int(n/4))\n",
    "    xy4 = np.random.multivariate_normal([3, -3], [[1, 0], [0, 1]], int(n/4))\n",
    "    xy = np.concatenate((xy1, xy2, xy3, xy4), axis=0)\n",
    "    mysubplot(xy[:, 0], xy[:, 1], 3, 7, 21, (-7, 7), (-7, 7))\n",
    "\n",
    "plt.figure(facecolor='white')\n",
    "plt.figure(figsize=(12,9))\n",
    "\n",
    "mvnormal(n=800)\n",
    "rotnormal(n=200)\n",
    "others(n=800)\n",
    "plt.tight_layout()\n",
    "plt.show()"
   ]
  },
  {
   "cell_type": "code",
   "execution_count": null,
   "metadata": {},
   "outputs": [],
   "source": []
  }
 ],
 "metadata": {
  "kernelspec": {
   "display_name": "Python 3",
   "language": "python",
   "name": "python3"
  },
  "language_info": {
   "codemirror_mode": {
    "name": "ipython",
    "version": 3
   },
   "file_extension": ".py",
   "mimetype": "text/x-python",
   "name": "python",
   "nbconvert_exporter": "python",
   "pygments_lexer": "ipython3",
   "version": "3.5.4"
  }
 },
 "nbformat": 4,
 "nbformat_minor": 2
}

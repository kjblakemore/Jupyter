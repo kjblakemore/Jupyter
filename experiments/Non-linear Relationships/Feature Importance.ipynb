{
 "cells": [
  {
   "cell_type": "markdown",
   "metadata": {},
   "source": [
    "Experiment to determine if mutual information regression and classification provide value over correlations for determining feature importance relative to a dependent variable."
   ]
  },
  {
   "cell_type": "code",
   "execution_count": null,
   "metadata": {
    "scrolled": true
   },
   "outputs": [],
   "source": [
    "import pandas as pd\n",
    "import numpy as np\n",
    "from sklearn.feature_selection import f_regression, f_classif, mutual_info_regression\n",
    "\n",
    "import matplotlib.pyplot as plt\n",
    "import seaborn as sns\n",
    "\n",
    "import scipy.stats as stats\n",
    "\n",
    "import pprint\n",
    "\n",
    "DATA_DIR_NAME = '/Users/karenblakemore/Koverse/data/'\n",
    "\n",
    "plt.rcParams.update({'figure.max_open_warning': 0})"
   ]
  },
  {
   "cell_type": "markdown",
   "metadata": {
    "scrolled": true
   },
   "source": [
    "## Data Preparation"
   ]
  },
  {
   "cell_type": "code",
   "execution_count": null,
   "metadata": {
    "scrolled": true
   },
   "outputs": [],
   "source": [
    "def data_preparation(pdf, drop_columns, continuous_columns, discrete_columns):\n",
    "    pdf = pdf.drop(drop_columns, axis=1)\n",
    "    \n",
    "    for col in discrete_columns:\n",
    "        pdf[col] = pd.to_numeric(pdf[col], downcast = 'integer')\n",
    "        pdf[col] = pdf[col].fillna(pdf[col].median())\n",
    "        \n",
    "    # Drop columns with all unique values, as this will cause an exeception in mutual_info_regression\n",
    "    for col in discrete_columns:\n",
    "        if pdf[col].nunique() == pdf.shape[0]:\n",
    "            discrete_columns.remove(col)\n",
    "            pdf = pdf.drop([col], axis=1)    \n",
    "    \n",
    "    for col in continuous_columns:\n",
    "        pdf[col] = pd.to_numeric(pdf[col])\n",
    "        pdf[col] = pdf[col].fillna(pdf[col].mean())\n",
    "\n",
    "    return pdf, discrete_columns"
   ]
  },
  {
   "cell_type": "markdown",
   "metadata": {},
   "source": [
    "## Calculate Scores"
   ]
  },
  {
   "cell_type": "code",
   "execution_count": null,
   "metadata": {
    "scrolled": true
   },
   "outputs": [],
   "source": [
    "SCORE_COLUMNS = ['y', 'x', 'f_test', 'pearson', 'spearman', 'mi']\n",
    "\n",
    "def calculate_scores(pdf, continuous_columns, discrete_columns):\n",
    "\n",
    "    scores_pdf = pd.DataFrame(columns = SCORE_COLUMNS)\n",
    "\n",
    "    for col in pdf:\n",
    "        print('Calculating Scores for {}'.format(col))\n",
    "        y = pdf[col]\n",
    "        X = pdf.drop([col], axis=1)\n",
    "    \n",
    "        discrete_column_indices = [X.columns.get_loc(x) for x in discrete_columns if x != col]\n",
    "\n",
    "        # Empty discrete indices causes an exception\n",
    "        if col in continuous_columns:\n",
    "            mi = mutual_info_regression(X.values, y) if discrete_column_indices == [] \\\n",
    "                else mutual_info_regression(X.values, y, discrete_column_indices)\n",
    "            f_test, _ = f_regression(X.values, y)\n",
    "\n",
    "        else:\n",
    "            mi = mutual_info_classif(X.values, y) if discrete_column_indices == [] \\\n",
    "                else mutual_info_regression(X.values, y, discrete_column_indices)\n",
    "            f_test, _ = f_classif(X.values, y)\n",
    "\n",
    "            \n",
    "        f_test /= np.max(f_test)    \n",
    "        mi /= np.max(mi)\n",
    "        \n",
    "        pearson = [stats.pearsonr(y, X[col].tolist())[0] for col in X]\n",
    "        spearman = [stats.spearmanr(y, X[col].tolist())[0] for col in X]    \n",
    "\n",
    "        length = X.shape[1]\n",
    "        results_pdf = pd.DataFrame(index=range(length), columns = SCORE_COLUMNS)\n",
    "        results_pdf['y'] = col\n",
    "        results_pdf['x'] = X.columns.values\n",
    "        results_pdf['f_test'] = f_test\n",
    "        results_pdf['pearson'] = pearson\n",
    "        results_pdf['spearman'] = spearman\n",
    "        results_pdf['mi'] = mi\n",
    "\n",
    "        results_pdf = results_pdf.sort_values(by = ['mi'], ascending=False)\n",
    "        display(results_pdf.head())\n",
    "\n",
    "        scores_pdf = scores_pdf.append(results_pdf, sort=True) \n",
    "        \n",
    "    return scores_pdf"
   ]
  },
  {
   "cell_type": "markdown",
   "metadata": {},
   "source": [
    "## Plot Bivariate Distributions"
   ]
  },
  {
   "cell_type": "code",
   "execution_count": null,
   "metadata": {
    "scrolled": true
   },
   "outputs": [],
   "source": [
    "def bivariate_plots(pdf, scores_pdf, discrete_columns):\n",
    "    \n",
    "    # Number of plots is min of 300 and number of correlations, rounded down to nearest number divisible by 3\n",
    "    number_of_plots = (min(300, scores_pdf.shape[0]) // 3) * 3\n",
    "    \n",
    "    for i in range(0,number_of_plots,3):\n",
    "        fig, axis = plt.subplots(ncols=3, figsize=(18,6))\n",
    "        plt.subplots_adjust(wspace=.4)  # adjust vertical space between plots\n",
    "\n",
    "        for j in range(3):\n",
    "            x_var = scores_pdf.iloc[i+j]['x']\n",
    "            y_var = scores_pdf.iloc[i+j]['y']\n",
    "            pair_pdf = pdf[[x_var, y_var]]\n",
    "            axis[j].set_title('f-test={:.3f} pearson={:.3f} spearman={:.3f} mi={:.3f}'.format(scores_pdf.iloc[i+j]['f_test'],\n",
    "                                                                                             scores_pdf.iloc[i+j]['pearson'],\n",
    "                                                                                             scores_pdf.iloc[i+j]['spearman'],\n",
    "                                                                                             scores_pdf.iloc[i+j]['mi']),\n",
    "                             y=1.04)\n",
    "            if x_var in discrete_columns and y_var in discrete_columns:\n",
    "                sns.countplot(x=x_var, hue=y_var, data=pair_pdf, ax=axis[j])\n",
    "            elif y_var in discrete_columns: \n",
    "                sns.stripplot(x=x_var, y=y_var, data=pair_pdf, orient='h', ax=axis[j])\n",
    "            elif x_var in discrete_columns:\n",
    "                 sns.stripplot(x=x_var, y=y_var, data=pair_pdf, orient='v', ax=axis[j])\n",
    "            else:\n",
    "                sns.scatterplot(x=x_var, y=y_var, data=pair_pdf, ax=axis[j])\n",
    "    plt.show()"
   ]
  },
  {
   "cell_type": "markdown",
   "metadata": {},
   "source": [
    "## Basketball Statistics Experiment\n",
    "[NBA Players stats since 1950](https://www.kaggle.com/drgilermo/nba-players-stats/home)"
   ]
  },
  {
   "cell_type": "markdown",
   "metadata": {},
   "source": [
    "### Load, Prep & Calculate Scores"
   ]
  },
  {
   "cell_type": "code",
   "execution_count": null,
   "metadata": {
    "scrolled": true
   },
   "outputs": [],
   "source": [
    "DATA_SET_NAME = 'season_stats'\n",
    "pdf = pd.read_csv(DATA_DIR_NAME + DATA_SET_NAME + '.csv', encoding='latin-1')\n",
    "print(pdf.shape)\n",
    "display(pdf.head())\n",
    "\n",
    "drop_columns = ['blank2', 'blanl', 'Player', 'Pos', 'Tm']\n",
    "continuous_columns = ['PER', 'TS%', '3PAr', 'FTr', 'ORB%', 'DRB%', 'TRB%', 'AST%', 'STL%', 'BLK%', 'TOV%', 'USG%', \\\n",
    "                     'OWS', 'DWS', 'WS', 'WS/48', 'OBPM', 'DBPM', 'BPM', 'VORP', 'FG%', '3P%', '2P%', 'eFG%', 'FT%', \\\n",
    "                     'Year', 'Age', 'G', 'GS', 'MP', 'FG', 'FGA', '3P', '3PA', '2P', '2PA', 'FT', 'FTA', 'ORB', \\\n",
    "                     'DRB', 'TRB', 'AST', 'STL', 'BLK', 'TOV', 'PF', 'PTS']\n",
    "discrete_columns = []\n",
    "\n",
    "prepped_pdf, updated_discrete_columns = data_preparation(pdf, drop_columns, continuous_columns, discrete_columns)\n",
    "display(prepped_pdf.head())\n",
    "\n",
    "scores_pdf = calculate_scores(prepped_pdf, continuous_columns, updated_discrete_columns)\n",
    "display(scores_pdf.head())"
   ]
  },
  {
   "cell_type": "markdown",
   "metadata": {},
   "source": [
    "### Plot Results"
   ]
  },
  {
   "cell_type": "code",
   "execution_count": null,
   "metadata": {
    "scrolled": true
   },
   "outputs": [],
   "source": [
    "scores_pdf['max_score'] = scores_pdf[['f_test', 'pearson', 'spearman', 'mi']].max(axis=1)\n",
    "bivariate_plots(prepped_pdf, scores_pdf.sort_values(by=['max_score'], ascending=False).head(100), updated_discrete_columns)"
   ]
  },
  {
   "cell_type": "markdown",
   "metadata": {},
   "source": [
    "## Movie Experiement\n",
    "[CSM (Conventional and Social Media Movies) Dataset 2014 and 2015](https://archive.ics.uci.edu/ml/datasets/CSM+%28Conventional+and+Social+Media+Movies%29+Dataset+2014+and+2015)"
   ]
  },
  {
   "cell_type": "markdown",
   "metadata": {},
   "source": [
    "### Load, Prep & Calculate Scores"
   ]
  },
  {
   "cell_type": "code",
   "execution_count": null,
   "metadata": {
    "scrolled": true
   },
   "outputs": [],
   "source": [
    "DATA_SET_NAME = 'Movies'\n",
    "pdf = pd.read_csv(DATA_DIR_NAME + DATA_SET_NAME + '.csv', encoding='latin-1')\n",
    "print(pdf.shape)\n",
    "display(pdf.head())\n",
    "print(pdf.nunique())\n",
    "\n",
    "drop_columns = ['Movie']\n",
    "continuous_columns = ['Ratings', \n",
    "                      'Gross', \n",
    "                      'Budget', \n",
    "                      'Screens', \n",
    "                      'Sentiment', \n",
    "                      'Views', \n",
    "                      'Likes',\n",
    "                      'Dislikes', \n",
    "                      'Comments',\n",
    "                      'Aggregate Followers',\n",
    "                      'Sequel'\n",
    "                     ]\n",
    "discrete_columns = ['Year', \n",
    "                    'Genre'\n",
    "                   ]\n",
    "prepped_pdf, updated_discrete_columns = data_preparation(pdf, drop_columns, continuous_columns, discrete_columns)\n",
    "display(prepped_pdf.head())\n",
    "print(updated_discrete_columns)\n",
    "\n",
    "scores_pdf = calculate_scores(prepped_pdf, continuous_columns, updated_discrete_columns)\n",
    "display(scores_pdf.head())"
   ]
  },
  {
   "cell_type": "markdown",
   "metadata": {},
   "source": [
    "### Plot Results"
   ]
  },
  {
   "cell_type": "code",
   "execution_count": null,
   "metadata": {
    "scrolled": false
   },
   "outputs": [],
   "source": [
    "scores_pdf['max_score'] = scores_pdf[['f_test', 'pearson', 'spearman', 'mi']].max(axis=1)\n",
    "bivariate_plots(prepped_pdf, scores_pdf.sort_values(by=['max_score'], ascending=False), updated_discrete_columns)"
   ]
  },
  {
   "cell_type": "markdown",
   "metadata": {},
   "source": [
    "## Hospital Readmissions"
   ]
  },
  {
   "cell_type": "code",
   "execution_count": null,
   "metadata": {
    "scrolled": true
   },
   "outputs": [],
   "source": [
    "DATA_SET_NAME = 'hospital_readmissions'\n",
    "pdf = pd.read_csv(DATA_DIR_NAME + DATA_SET_NAME + '.csv', encoding='latin-1')\n",
    "print(pdf.shape)\n",
    "display(pdf.head())\n",
    "print(pdf.nunique())\n",
    "\n",
    "pdf = pdf.replace({'Below the national average': '1',\n",
    "                   'Same as the national average': '2', \n",
    "                   'Above the national average': '3',\n",
    "                   'Not Available': '',\n",
    "                   'Too Few to Report': '',\n",
    "                   'Results are not available for this reporting period': ''\n",
    "                  }\n",
    "                 )\n",
    "\n",
    "drop_columns = ['Address',\n",
    "                'City', \n",
    "                'County Name', \n",
    "                'Effectiveness of care national comparison footnote',\n",
    "                'Efficient use of medical imaging national comparison footnote',\n",
    "                'Emergency Services',\n",
    "                'End Date',\n",
    "                'Footnote',\n",
    "                'Hospital Name',\n",
    "                'Hospital Ownership',\n",
    "                'Hospital Type',\n",
    "                'Hospital overall rating footnote',\n",
    "                'Measure Name',\n",
    "                'Meets criteria for meaningful use of EHRs',\n",
    "                'Mortality national comparison footnote',\n",
    "                'Patient experience national comparison footnote',\n",
    "                'Phone Number',\n",
    "                'Provider ID',\n",
    "                'Provider Number',\n",
    "                'Readmission national comparison footnote',\n",
    "                'Safety of care national comparison footnote',\n",
    "                'Start Date',\n",
    "                'State',\n",
    "                'Timeliness of care national comparison footnote',\n",
    "                'ZIP Code',\n",
    "                'Hospital Name'\n",
    "               ]\n",
    "continuous_columns = ['Excess Readmission Ratio',\n",
    "                      'Expected Readmission Rate',\n",
    "                      'Predicted Readmission Rate',\n",
    "                      'Number of Discharges',                   \n",
    "                      'Number of Readmissions',                      \n",
    "                     ]\n",
    "discrete_columns = ['Effectiveness of care national comparison',\n",
    "                    'Efficient use of medical imaging national comparison',\n",
    "                    'Hospital overall rating',\n",
    "                    'Mortality national comparison',\n",
    "                    'Patient experience national comparison',\n",
    "                    'Readmission national comparison',\n",
    "                    'Safety of care national comparison',\n",
    "                    'Timeliness of care national comparison'\n",
    "                   ]\n",
    "\n",
    "prepped_pdf, updated_discrete_columns = data_preparation(pdf, drop_columns, continuous_columns, discrete_columns)\n",
    "display(prepped_pdf.head())\n",
    "print(updated_discrete_columns)\n",
    "\n",
    "scores_pdf = calculate_scores(prepped_pdf, continuous_columns, updated_discrete_columns)\n",
    "display(scores_pdf.head())"
   ]
  },
  {
   "cell_type": "code",
   "execution_count": null,
   "metadata": {
    "scrolled": false
   },
   "outputs": [],
   "source": [
    "scores_pdf['max_score'] = scores_pdf[['f_test', 'pearson', 'spearman', 'mi']].abs().max(axis=1)\n",
    "bivariate_plots(prepped_pdf, scores_pdf.sort_values(by=['max_score'], ascending=False).head(100), updated_discrete_columns)"
   ]
  },
  {
   "cell_type": "markdown",
   "metadata": {},
   "source": [
    "## Score Comparison"
   ]
  },
  {
   "cell_type": "code",
   "execution_count": null,
   "metadata": {
    "scrolled": true
   },
   "outputs": [],
   "source": [
    "np.random.seed(0)\n",
    "\n",
    "X = np.random.rand(1000, 3)\n",
    "y = X[:, 0] + np.sin(6 * np.pi * X[:, 1]) + 0.1 * np.random.randn(1000)\n",
    "\n",
    "pdf = pd.DataFrame({'y': y, 'x0': X[:,0].tolist(), 'x1': X[:,1].tolist(), 'x2': X[:,2].tolist()})\n",
    "\n",
    "print(pdf.shape)\n",
    "display(pdf.head())\n",
    "print(pdf.nunique())\n",
    "\n",
    "drop_columns = []\n",
    "continuous_columns = ['y', 'x0', 'x1', 'x2']\n",
    "discrete_columns = []\n",
    "\n",
    "prepped_pdf, updated_discrete_columns = data_preparation(pdf, drop_columns, continuous_columns, discrete_columns)\n",
    "display(prepped_pdf.head())\n",
    "print(updated_discrete_columns)\n",
    "\n",
    "scores_pdf = calculate_scores(prepped_pdf, continuous_columns, updated_discrete_columns)\n",
    "display(scores_pdf.head())\n",
    "\n",
    "bivariate_plots(pdf, scores_pdf[scores_pdf['y'] == 'y'])"
   ]
  }
 ],
 "metadata": {
  "kernelspec": {
   "display_name": "Python 3",
   "language": "python",
   "name": "python3"
  },
  "language_info": {
   "codemirror_mode": {
    "name": "ipython",
    "version": 3
   },
   "file_extension": ".py",
   "mimetype": "text/x-python",
   "name": "python",
   "nbconvert_exporter": "python",
   "pygments_lexer": "ipython3",
   "version": "3.5.4"
  }
 },
 "nbformat": 4,
 "nbformat_minor": 2
}

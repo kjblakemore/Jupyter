{
 "cells": [
  {
   "cell_type": "code",
   "execution_count": null,
   "metadata": {
    "scrolled": false
   },
   "outputs": [],
   "source": [
    "import pandas as pd\n",
    "import numpy as np\n",
    "import scipy.stats as stats\n",
    "import matplotlib.pyplot as plt\n",
    "import seaborn as sns\n",
    "\n",
    "from sklearn import metrics\n",
    "from sklearn.feature_selection import f_regression, mutual_info_regression\n",
    "from itertools import combinations\n",
    "from collections import Counter\n",
    "\n",
    "DATA_DIR_NAME = '/Users/karenblakemore/Koverse/data/'\n",
    "\n",
    "plt.rcParams.update({'figure.max_open_warning': 0})"
   ]
  },
  {
   "cell_type": "markdown",
   "metadata": {},
   "source": [
    "## Data Preparation"
   ]
  },
  {
   "cell_type": "code",
   "execution_count": null,
   "metadata": {
    "scrolled": true
   },
   "outputs": [],
   "source": [
    "def data_preparation(pdf, drop_columns, numeric_columns):\n",
    "    pdf = pdf.drop(drop_columns, axis=1)\n",
    "\n",
    "    for col in pdf:\n",
    "        if col in numeric_columns:\n",
    "            print(col)\n",
    "            pdf[col] = pd.to_numeric(pdf[col], downcast = 'integer')\n",
    "        else:           \n",
    "            pdf[col], _  = pd.factorize(pdf[col].values)\n",
    "\n",
    "    return pdf"
   ]
  },
  {
   "cell_type": "markdown",
   "metadata": {},
   "source": [
    "## Function to calculate correlations"
   ]
  },
  {
   "cell_type": "code",
   "execution_count": null,
   "metadata": {
    "scrolled": true
   },
   "outputs": [],
   "source": [
    "SCORE_COLUMNS = ['x', 'y', 'MI-Score', 'G-Test']\n",
    "\n",
    "def calculate_scores(pdf, filter_nans):\n",
    "    \n",
    "    # Create pairs of all columns\n",
    "    pairs = combinations(list(pdf.columns.values), 2)\n",
    "\n",
    "    # Correlations dataframe\n",
    "    scores_pdf = pd.DataFrame(columns=SCORE_COLUMNS)\n",
    "\n",
    "    # Calculate MI & G-Test scores\n",
    "    print('Calculating MI & G-Test Scores')\n",
    "    for idx, pair in enumerate(pairs):\n",
    "        pair_pdf = pdf[[pair[0], pair[1]]]  \n",
    "        \n",
    "         # Drop pairs with nan's\n",
    "        if(filter_nans):\n",
    "            pair_pdf = pair_pdf.dropna()\n",
    "            \n",
    "        N = pair_pdf.shape[0]\n",
    "            \n",
    "        var0_cardinality = pair_pdf[pair[0]].nunique(dropna=True)\n",
    "        var1_cardinality = pair_pdf[pair[1]].nunique(dropna=True)\n",
    "        \n",
    "        mi_score = metrics.adjusted_mutual_info_score(pair_pdf[pair[0]], pair_pdf[pair[1]])\n",
    "            \n",
    "        frequency_df = pd.crosstab(pair_pdf[pair[0]], pair_pdf[pair[1]])\n",
    "\n",
    "        frequency_df = frequency_df.loc[(frequency_df!=0).any(axis=1)]       # delete rows that are equal to zero\n",
    "        frequency_df = frequency_df.loc[:, (frequency_df != 0).any(axis=0)]  # delete columns that are equal to zero\n",
    "\n",
    "        frequency_matrix = pd.DataFrame.as_matrix(frequency_df)\n",
    "\n",
    "        chi2, p, dof, expected = stats.chi2_contingency(frequency_matrix, lambda_='log-likelihood')\n",
    "\n",
    "        crosstab_num_entries = var0_cardinality * var1_cardinality\n",
    "        n = N/crosstab_num_entries    \n",
    "        max_chi2 = ((N - n) ** 2)/n\n",
    "        normalized_chi2 = chi2/max_chi2    \n",
    "        \n",
    "        score = {'x': pair[0], \n",
    "                 'y': pair[1], \n",
    "                 'MI-Score': mi_score,\n",
    "                 'G-Test': normalized_chi2}\n",
    "\n",
    "        scores_pdf = scores_pdf.append(score, ignore_index=True)\n",
    "        \n",
    "        # print every 10 calculations    \n",
    "        if idx%10 == 0:   \n",
    "            print(idx, mi_score, normalized_chi2, pair[0], pair[1])\n",
    "    \n",
    "    print(scores_pdf.shape)\n",
    "    scores_pdf.describe()\n",
    "    display(scores_pdf.head())\n",
    "    \n",
    "    return scores_pdf   "
   ]
  },
  {
   "cell_type": "markdown",
   "metadata": {},
   "source": [
    "## Plot Bivariate Distributions"
   ]
  },
  {
   "cell_type": "code",
   "execution_count": null,
   "metadata": {
    "scrolled": false
   },
   "outputs": [],
   "source": [
    "MAX_NUNIQUE = 11\n",
    "\n",
    "def bivariate_plots(pdf, scores_pdf, filter_nans):  \n",
    "    for idx, row in scores_pdf.iterrows():\n",
    "        x_var = row['x']\n",
    "        y_var = row['y']\n",
    "        \n",
    "        print(x_var, y_var)\n",
    "        pair_pdf = pdf[[x_var, y_var]]\n",
    "         \n",
    "        if filter_nans:\n",
    "            pair_pdf = pair_pdf.dropna()\n",
    "            \n",
    "        x_nunique = pair_pdf[x_var].nunique()\n",
    "        y_nunique = pair_pdf[y_var].nunique()\n",
    "\n",
    "        if x_nunique > MAX_NUNIQUE:\n",
    "            top_values = [x for x, count in Counter(pair_pdf[x_var]).most_common(MAX_NUNIQUE)]\n",
    "            pair_pdf = pair_pdf[pair_pdf[x_var].isin(top_values)]\n",
    "        if y_nunique > MAX_NUNIQUE:\n",
    "            top_values = [y for y, count in Counter(pair_pdf[y_var]).most_common(MAX_NUNIQUE)]\n",
    "            pair_pdf = pair_pdf[pair_pdf[y_var].isin(top_values)]\n",
    "                \n",
    "        cplot = sns.countplot(y=pair_pdf[x_var], hue=pair_pdf[y_var], data=pair_pdf)\n",
    "        cplot.set_title('MI-Score={:.6f} G-Test={:.6f}'.format(row['MI-Score'], row['G-Test']))\n",
    "        plt.legend(bbox_to_anchor=(1.05, 1), loc=2, borderaxespad=0., title=y_var)\n",
    "        plt.show()      "
   ]
  },
  {
   "cell_type": "markdown",
   "metadata": {},
   "source": [
    "## Bus Breakdowns and Delays\n",
    "[Bys Breakdown and Delays](https://data.cityofnewyork.us/Transportation/Bus-Breakdown-and-Delays/ez4e-fazm)"
   ]
  },
  {
   "cell_type": "markdown",
   "metadata": {},
   "source": [
    "### Load Data Set"
   ]
  },
  {
   "cell_type": "code",
   "execution_count": null,
   "metadata": {},
   "outputs": [],
   "source": [
    "DATA_SET_NAME = 'bus_breakdown_and_delays'\n",
    "pdf = pd.read_csv(DATA_DIR_NAME + DATA_SET_NAME + '.csv', encoding='latin-1')\n",
    "print(pdf.shape)\n",
    "display(pdf.head())\n",
    "print(pdf.nunique())"
   ]
  },
  {
   "cell_type": "code",
   "execution_count": null,
   "metadata": {},
   "outputs": [],
   "source": [
    "drop_columns = ['Busbreakdown_ID',\n",
    "                'Created_On',\n",
    "                'Has_Contractor_Notified_Parents',\n",
    "                'Has_Contractor_Notified_Schools',\n",
    "                'Have_You_Alerted_OPT',\n",
    "                'How_Long_Delayed',\n",
    "                'Incident_Number',\n",
    "                'Informed_On',\n",
    "                'Last_Updated_On',\n",
    "                'Number_Of_Students_On_The_Bus',\n",
    "                'Occurred_On',\n",
    "                'Route_Number',\n",
    "                'Schools_Serviced']\n",
    "numeric_columns = []\n",
    "              \n",
    "prepped_pdf = data_preparation(pdf, drop_columns, numeric_columns)\n",
    "\n",
    "display(prepped_pdf.head())"
   ]
  },
  {
   "cell_type": "markdown",
   "metadata": {},
   "source": [
    "### Calculate Scores"
   ]
  },
  {
   "cell_type": "code",
   "execution_count": null,
   "metadata": {},
   "outputs": [],
   "source": [
    "scores_pdf = calculate_scores(prepped_pdf, True)\n",
    "display(scores_pdf.head())"
   ]
  },
  {
   "cell_type": "code",
   "execution_count": null,
   "metadata": {},
   "outputs": [],
   "source": [
    "display(scores_pdf)"
   ]
  },
  {
   "cell_type": "markdown",
   "metadata": {},
   "source": [
    "### Plot Results"
   ]
  },
  {
   "cell_type": "code",
   "execution_count": null,
   "metadata": {
    "scrolled": false
   },
   "outputs": [],
   "source": [
    "scores_pdf['max_score'] = scores_pdf[['MI-Score', 'G-Test']].max(axis=1)\n",
    "bivariate_plots(pdf, scores_pdf.sort_values(by=['max_score'], ascending=False), True)"
   ]
  },
  {
   "cell_type": "markdown",
   "metadata": {},
   "source": [
    "## Hospital Readmissions\n",
    "The data set is a join of two on hospital name:\n",
    "* [Hospital Readmission Reduction](https://healthdata.gov/dataset/hospital-readmission-reduction)\n",
    "* [Hospital Ratings](https://www.kaggle.com/center-for-medicare-and-medicaid/hospital-ratings)"
   ]
  },
  {
   "cell_type": "markdown",
   "metadata": {},
   "source": [
    "### Load Data Set"
   ]
  },
  {
   "cell_type": "code",
   "execution_count": null,
   "metadata": {
    "scrolled": true
   },
   "outputs": [],
   "source": [
    "DATA_SET_NAME = 'hospital_readmissions'\n",
    "pdf = pd.read_csv(DATA_DIR_NAME + DATA_SET_NAME + '.csv', encoding='latin-1')\n",
    "print(pdf.shape)\n",
    "display(pdf.head())\n",
    "print(pdf.nunique())"
   ]
  },
  {
   "cell_type": "markdown",
   "metadata": {},
   "source": [
    "### Prepare Data Set"
   ]
  },
  {
   "cell_type": "code",
   "execution_count": null,
   "metadata": {
    "scrolled": true
   },
   "outputs": [],
   "source": [
    "pdf = pdf.replace({'Below the national average': 1,\n",
    "                   'Same as the national average': 2, \n",
    "                   'Above the national average': 3,\n",
    "                   'Not Available': np.nan,\n",
    "                   'Too Few to Report': np.nan,\n",
    "                   'Results are not available for this reporting period': np.nan\n",
    "                  }\n",
    "                 )\n",
    "\n",
    "numeric_columns = ['Effectiveness of care national comparison',\n",
    "                    'Efficient use of medical imaging national comparison',\n",
    "                    'Hospital overall rating',\n",
    "                    'Mortality national comparison',\n",
    "                    'Patient experience national comparison',\n",
    "                    'Readmission national comparison',\n",
    "                    'Safety of care national comparison',\n",
    "                    'Timeliness of care national comparison'\n",
    "                   ]\n",
    "\n",
    "drop_columns = ['Address',\n",
    "                'City',\n",
    "                'County Name',\n",
    "                'Effectiveness of care national comparison footnote',\n",
    "                'Efficient use of medical imaging national comparison footnote',\n",
    "                'Emergency Services',\n",
    "                'End Date',\n",
    "                'Footnote',\n",
    "                'Hospital Name',\n",
    "                'Hospital overall rating footnote',\n",
    "                'Measure Name',\n",
    "                'Meets criteria for meaningful use of EHRs',\n",
    "                'Mortality national comparison footnote',\n",
    "                'Patient experience national comparison footnote',\n",
    "                'Phone Number',\n",
    "                'Provider ID',\n",
    "                'Provider Number',\n",
    "                'Readmission national comparison footnote',\n",
    "                'Safety of care national comparison footnote',\n",
    "                'Start Date',\n",
    "                'State',\n",
    "                'Timeliness of care national comparison footnote',\n",
    "                'ZIP Code',\n",
    "                'Hospital Name',\n",
    "                'Hospital Type',\n",
    "                'Excess Readmission Ratio',\n",
    "                'Expected Readmission Rate',\n",
    "                'Predicted Readmission Rate',\n",
    "                'Number of Discharges',                   \n",
    "                'Number of Readmissions']\n",
    "\n",
    "prepped_pdf = data_preparation(pdf, drop_columns, numeric_columns)\n",
    "\n",
    "display(prepped_pdf.head())"
   ]
  },
  {
   "cell_type": "markdown",
   "metadata": {},
   "source": [
    "### Calculate Scores"
   ]
  },
  {
   "cell_type": "code",
   "execution_count": null,
   "metadata": {
    "scrolled": true
   },
   "outputs": [],
   "source": [
    "scores_pdf = calculate_scores(prepped_pdf, True)\n",
    "display(scores_pdf.head())"
   ]
  },
  {
   "cell_type": "markdown",
   "metadata": {},
   "source": [
    "### Plot results"
   ]
  },
  {
   "cell_type": "code",
   "execution_count": null,
   "metadata": {
    "scrolled": true
   },
   "outputs": [],
   "source": [
    "scores_pdf['max_score'] = scores_pdf[['MI-Score', 'G-Test']].max(axis=1)\n",
    "bivariate_plots(pdf, scores_pdf.sort_values(by=['max_score'], ascending=False), True)"
   ]
  },
  {
   "cell_type": "code",
   "execution_count": null,
   "metadata": {
    "scrolled": false
   },
   "outputs": [],
   "source": []
  }
 ],
 "metadata": {
  "kernelspec": {
   "display_name": "Python 3",
   "language": "python",
   "name": "python3"
  },
  "language_info": {
   "codemirror_mode": {
    "name": "ipython",
    "version": 3
   },
   "file_extension": ".py",
   "mimetype": "text/x-python",
   "name": "python",
   "nbconvert_exporter": "python",
   "pygments_lexer": "ipython3",
   "version": "3.5.4"
  }
 },
 "nbformat": 4,
 "nbformat_minor": 2
}

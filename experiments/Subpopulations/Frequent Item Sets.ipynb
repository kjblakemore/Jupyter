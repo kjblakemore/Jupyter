{
 "cells": [
  {
   "cell_type": "markdown",
   "metadata": {},
   "source": [
    "# Subpopulation Analysis using Frequent Item Sets\n",
    "Compare item and itemset frequencies between subpopulation and population"
   ]
  },
  {
   "cell_type": "code",
   "execution_count": null,
   "metadata": {},
   "outputs": [],
   "source": [
    "library(data.table)\n",
    "library(arules)\n",
    "\n",
    "DATA_DIR_NAME <- '/Users/karenblakemore/koverse/data/'\n",
    "\n",
    "options(warn = -1)"
   ]
  },
  {
   "cell_type": "markdown",
   "metadata": {},
   "source": [
    "## Data Preparation"
   ]
  },
  {
   "cell_type": "code",
   "execution_count": null,
   "metadata": {},
   "outputs": [],
   "source": [
    "prepare_data <- function(df, continuous_columns, drop_columns) { \n",
    "    \n",
    "    df <- df[, !(names(df) %in% drop_columns)] # drop columns\n",
    "    \n",
    "    for(col in continuous_columns) {\n",
    "        df[,col] <- as.numeric(df[,col])        # convert factor -> numeric\n",
    "        df[,col] <- cut(df[,col], 10)           # bin into 10 intervals\n",
    "    }\n",
    "    \n",
    "    df[] <- lapply(df, factor)                 # all variables must be of type factor\n",
    "    trans <- as(df, \"transactions\")            # coerce to transactions\n",
    "    \n",
    "    return(trans)\n",
    "}"
   ]
  },
  {
   "cell_type": "markdown",
   "metadata": {},
   "source": [
    "## Frequent Itemsets"
   ]
  },
  {
   "cell_type": "code",
   "execution_count": null,
   "metadata": {},
   "outputs": [],
   "source": [
    "frequent_itemsets <- function(trans) { \n",
    "    invisible(capture.output(itemsets <- eclat(trans, parameter = list(supp = .1, minlen = 2, maxlen = 10))))  \n",
    "    return(itemsets)\n",
    "}"
   ]
  },
  {
   "cell_type": "markdown",
   "metadata": {},
   "source": [
    "## Compare Itemsets"
   ]
  },
  {
   "cell_type": "code",
   "execution_count": null,
   "metadata": {},
   "outputs": [],
   "source": [
    "compare_itemsets <- function(grp2_type, grp1, grp2) {\n",
    "    grp1_df <- as(grp1, \"data.frame\")\n",
    "    grp1_df$match <- NULL\n",
    "    grp2_df <- as(grp2, \"data.frame\")\n",
    "    \n",
    "    grp2_df <- grp2_df[with(grp2_df, order(-support)), ][1:20,]\n",
    "    if (grp2_type == \"population\") {\n",
    "        colnames(grp2_df)[colnames(grp2_df) == 'support'] <- 'population support'\n",
    "        colnames(grp2_df)[colnames(grp2_df) == 'count'] <- 'population count' \n",
    "    }\n",
    "    \n",
    "    for (idx in 1:20) {\n",
    "        grp1_df$match <- sapply(grp1_df[,\"items\"], function(grp1_items) setequal(grp1_items, grp2_df[idx, \"items\"]))\n",
    "        matching_row <- grp1_df[grp1_df$match == TRUE, ] \n",
    "                               \n",
    "        # Comparing most frequent itemsets of subpopulation with population\n",
    "        if(grp2_type == \"subpopulation\") {\n",
    "            if(nrow(matching_row) != 0) {\n",
    "                grp2_df[idx, \"population support\"] <- matching_row$support\n",
    "                grp2_df[idx, \"lift\"] <- grp2_df[idx, \"support\"] / matching_row$support\n",
    "            } else {\n",
    "                grp2_df[idx, \"population support\"] <- 0\n",
    "                grp2_df[idx, \"lift\"] <- grp2_df[idx, \"support\"] / .1\n",
    "            }\n",
    "        # Comparing most frequent itemsets of population with subpopulation                   \n",
    "        } else {\n",
    "            if(nrow(matching_row) != 0) {\n",
    "                grp2_df[idx, \"support\"] <- matching_row$support\n",
    "                grp2_df[idx, \"lift\"] <- matching_row$support / grp2_df[idx, \"population support\"]\n",
    "            } else {\n",
    "                grp2_df[idx, \"support\"] <- 0\n",
    "                grp2_df[idx, \"lift\"] <- 0\n",
    "            }\n",
    "        }\n",
    "    }\n",
    "    if(grp2_type == \"subpopulation\") {\n",
    "        grp2_df <- grp2_df[with(grp2_df, order(-lift)), ][1:20,] \n",
    "    } else {\n",
    "        grp2_df <- grp2_df[with(grp2_df, order(lift)), ][1:20,] \n",
    "    }\n",
    "    row.names(grp2_df) <- NULL\n",
    "    IRdisplay::display(grp2_df)\n",
    "}"
   ]
  },
  {
   "cell_type": "markdown",
   "metadata": {},
   "source": [
    "## Experiment - NY subpopulation of Hospital Readmissions Data Set\n",
    "Compare top ranking items and itemsets by frequency of occurrence"
   ]
  },
  {
   "cell_type": "code",
   "execution_count": null,
   "metadata": {
    "scrolled": false
   },
   "outputs": [],
   "source": [
    "continuous_columns <- list(\"Excess Readmission Ratio\",\n",
    "                           \"Expected Readmission Rate\",\n",
    "                           \"Predicted Readmission Rate\",\n",
    "                           \"Number of Discharges\",              \n",
    "                           \"Number of Readmissions\"\n",
    "                           )\n",
    "\n",
    "drop_columns <- list(\"Address\",\n",
    "                     \"City\",\n",
    "                     \"County Name\",\n",
    "                     \"Effectiveness of care national comparison footnote\",\n",
    "                     \"Efficient use of medical imaging national comparison footnote\",\n",
    "                     \"Emergency Services\",\n",
    "                     \"End Date\",\n",
    "                     \"Footnote\",\n",
    "                     \"Hospital Name\",\n",
    "                     \"Hospital overall rating footnote\",\n",
    "                     \"Hospital Type\",\n",
    "                     \"Measure Name\",\n",
    "                     \"Meets criteria for meaningful use of EHRs\",\n",
    "                     \"Mortality national comparison footnote\",\n",
    "                     \"Patient experience national comparison footnote\",\n",
    "                     \"Phone Number\",\n",
    "                     \"Provider ID\",\n",
    "                     \"Provider Number\",\n",
    "                     \"Readmission national comparison footnote\",\n",
    "                     \"Safety of care national comparison footnote\",\n",
    "                     \"Start Date\",\n",
    "                     \"State\",\n",
    "                     \"Timeliness of care national comparison footnote\",\n",
    "                     \"ZIP Code\",\n",
    "                     \"ï»¿Hospital Name\"\n",
    "                    )\n",
    "\n",
    "\n",
    "df <- read.csv(paste(DATA_DIR_NAME, \"hospital_readmissions.csv\", sep=\"\"), na.strings=c(\"\"), check.names=FALSE)\n",
    "\n",
    "# Population Frequent Itemsets\n",
    "trans <- prepare_data(df, continuous_columns, drop_columns)\n",
    "itemsets <- frequent_itemsets(trans)\n",
    "\n",
    "# Subpopulation Frequent Itemsets\n",
    "ny_df <- df[df$State == \"NY\",]\n",
    "ny_trans <- prepare_data(ny_df, continuous_columns, drop_columns)\n",
    "ny_itemsets <- frequent_itemsets(ny_trans)\n",
    "\n",
    "# Item Set Frequency - Subpopulation vs Population\n",
    "IRdisplay::display(\"Comparing Most Frequent Itemsets - Subpopulation vs Population\")\n",
    "compare_itemsets(\"subpopulation\", itemsets, ny_itemsets)\n",
    "\n",
    "# Item Set Frequency - Population vs Subpopulation\n",
    "IRdisplay::display(\"Comparing Most Frequent Itemsets - Population vs Subpopulation\")\n",
    "compare_itemsets(\"population\", ny_itemsets, itemsets)\n",
    "\n",
    "# Relative Item Frequency - Bars Subpopulation, Line Population\n",
    "itemFrequencyPlot(ny_trans, topN=20, cex.names = .8, population=trans, horiz=TRUE)\n",
    "               \n",
    "# Relative Item Frequency - Bars Population, Line Subpopulation\n",
    "itemFrequencyPlot(trans, topN=20, cex.names = .8, population=ny_trans, horiz=TRUE)"
   ]
  },
  {
   "cell_type": "markdown",
   "metadata": {},
   "source": [
    "## Experiment - Survived subpopulation of Titanic Data Set"
   ]
  },
  {
   "cell_type": "code",
   "execution_count": null,
   "metadata": {
    "scrolled": false
   },
   "outputs": [],
   "source": [
    "DATA_SET_NAME = 'titanic'\n",
    "CLUSTER_COUNT = 10\n",
    "\n",
    "continuous_columns <- list(\"Age\",\n",
    "                           \"Fare\"\n",
    "                          )\n",
    "\n",
    "drop_columns <- list(\"Cabin\",\n",
    "                     \"Name\",\n",
    "                     \"PassengerId\",\n",
    "                     \"Ticket\",\n",
    "                     \"Survived\"\n",
    "                     )\n",
    "\n",
    "df <- read.csv(paste(DATA_DIR_NAME, \"titanic.csv\", sep=\"\"), na.strings=c(\"\"), check.names=FALSE)\n",
    "\n",
    "# Population Frequent Itemsets\n",
    "trans <- prepare_data(df, continuous_columns, drop_columns)\n",
    "itemsets <- frequent_itemsets(trans)\n",
    "\n",
    "# Subpopulation Frequent Itemsets\n",
    "ny_df <- df[df$Survived == 1,]\n",
    "ny_trans <- prepare_data(ny_df, continuous_columns, drop_columns)\n",
    "ny_itemsets <- frequent_itemsets(ny_trans)\n",
    "\n",
    "# Item Set Frequency - Subpopulation vs Population\n",
    "IRdisplay::display(\"Comparing Most Frequent Itemsets - Subpopulation vs Population\")\n",
    "compare_itemsets(\"subpopulation\", itemsets, ny_itemsets)\n",
    "\n",
    "# Item Set Frequency - Population vs Subpopulation\n",
    "IRdisplay::display(\"Comparing Most Frequent Itemsets - Population vs Subpopulation\")\n",
    "compare_itemsets(\"population\", ny_itemsets, itemsets)\n",
    "\n",
    "# Relative Item Frequency - Bars Subpopulation, Line Population\n",
    "itemFrequencyPlot(ny_trans, topN=20, cex.names = .8, population=trans, horiz=TRUE)\n",
    "               \n",
    "# Relative Item Frequency - Bars Population, Line Subpopulation\n",
    "itemFrequencyPlot(trans, topN=20, cex.names = .8, population=ny_trans, horiz=TRUE)\n"
   ]
  },
  {
   "cell_type": "markdown",
   "metadata": {
    "scrolled": true
   },
   "source": [
    "## Experiment - Transaction Cluster Subpopulations of Titanic Data Set"
   ]
  },
  {
   "cell_type": "code",
   "execution_count": null,
   "metadata": {
    "scrolled": false
   },
   "outputs": [],
   "source": [
    "DATA_SET_NAME = 'titanic'\n",
    "CLUSTER_COUNT = 10\n",
    "\n",
    "continuous_columns <- list(\"Age\",\n",
    "                           \"Fare\"\n",
    "                          )\n",
    "\n",
    "drop_columns <- list(\"Cabin\",\n",
    "                     \"Name\",\n",
    "                     \"PassengerId\",\n",
    "                     \"Ticket\"\n",
    "                     )\n",
    "\n",
    "df <- read.csv(paste(DATA_DIR_NAME, \"titanic.csv\", sep=\"\"), na.strings=c(\"\"), check.names=FALSE)\n",
    "clusters_df <- read.csv(paste(DATA_DIR_NAME, \"titanic_clusters.csv\", sep=\"\"), na.strings=c(\"\"), check.names=FALSE)\n",
    "\n",
    "# Population Frequent Itemsets\n",
    "trans <- prepare_data(df, continuous_columns, drop_columns)\n",
    "itemsets <- frequent_itemsets(trans)\n",
    "\n",
    "# Compare Frequent Itemsets between population and each cluster\n",
    "for (i in 1:CLUSTER_COUNT) {\n",
    "    # Subpopulation Frequent Itemsets\n",
    "    subpop_df <- clusters_df[clusters_df$\"__CLUSTER__\" == i,]\n",
    "    subpop_df$\"__CLUSTER__\" <- NULL\n",
    "    subpop_trans <- prepare_data(subpop_df, continuous_columns, drop_columns)\n",
    "    subpop_itemsets <- frequent_itemsets(subpop_trans)\n",
    "\n",
    "    # Item Set Frequency - Subpopulation vs Population\n",
    "    IRdisplay::display(paste(\"Comparing Most Frequent Itemsets - Population vs Cluster \", i, sep=\"\"))\n",
    "    compare_itemsets(\"subpopulation\", itemsets, subpop_itemsets)\n",
    "\n",
    "    # Item Set Frequency - Population vs Subpopulation\n",
    "    IRdisplay::display(paste(\"Comparing Most Frequent Itemsets - Cluster vs Population \", i, sep=\"\"))\n",
    "    compare_itemsets(\"population\", subpop_itemsets, itemsets)\n",
    "    }"
   ]
  },
  {
   "cell_type": "code",
   "execution_count": null,
   "metadata": {},
   "outputs": [],
   "source": []
  }
 ],
 "metadata": {
  "kernelspec": {
   "display_name": "R",
   "language": "R",
   "name": "ir"
  },
  "language_info": {
   "codemirror_mode": "r",
   "file_extension": ".r",
   "mimetype": "text/x-r-source",
   "name": "R",
   "pygments_lexer": "r",
   "version": "3.5.1"
  }
 },
 "nbformat": 4,
 "nbformat_minor": 2
}

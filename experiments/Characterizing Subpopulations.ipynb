{
 "cells": [
  {
   "cell_type": "markdown",
   "metadata": {},
   "source": [
    "The Cool Tool uses the association rules to characterize subpopulations, with the LHS value defining the subpopulation and the RHS characterizing it.  If the LHS occurs at a frequency lower than the minimum support metric, this method will not return results.  \n",
    "\n",
    "This experiment involves testing whether other algorithm results can be used to characterize these relatively small subpopulations.\n",
    "\n",
    "Three algorithm results are tested:  __Conditional Probabilities__, __Classification Coefficients__ and __Frequency Counts__.\n",
    "\n",
    "The __Season Stats__ data set is used with __pos=G__ defining the subpopulation."
   ]
  },
  {
   "cell_type": "code",
   "execution_count": null,
   "metadata": {},
   "outputs": [],
   "source": [
    "import pandas as pd\n",
    "\n",
    "# Location of data sets\n",
    "DATA_DIR_NAME = '/Users/karenblakemore/merck/data/'"
   ]
  },
  {
   "cell_type": "markdown",
   "metadata": {},
   "source": [
    "# Classification Results\n",
    "For this experiment, the __dependent value__ defines the subpopulation. __Independent values__ that are strongly associated with the dependent value characterize the subpopulation.\n",
    "\n",
    "The classification results include a set of __coefficients__ for each dependent value.  The results also include __counts__ of the co-occurrence of dependent and independent values. "
   ]
  },
  {
   "cell_type": "markdown",
   "metadata": {},
   "source": [
    "## Load Classification Results and create subpopulation"
   ]
  },
  {
   "cell_type": "code",
   "execution_count": null,
   "metadata": {},
   "outputs": [],
   "source": [
    "# classification results\n",
    "DATA_SET_NAME = 'Seasons_Stats_noindex_classification_coefficients'\n",
    "\n",
    "# Read classification results\n",
    "pdf = pd.read_csv(DATA_DIR_NAME + DATA_SET_NAME + '.csv')\n",
    "\n",
    "# Create subpopulation defined by dependent value\n",
    "pos_g = pdf[pdf['dependent_value'] == 'pos=G']"
   ]
  },
  {
   "cell_type": "markdown",
   "metadata": {},
   "source": [
    "## Top classification coefficients for subpopulation\n",
    "The top coefficients are for infrequent values.  Higher frequency values would provide more general characterizations. Also, the relationships may not be linear which would mean that the coefficients can not be interpreted as the importance of an independent value."
   ]
  },
  {
   "cell_type": "code",
   "execution_count": null,
   "metadata": {},
   "outputs": [],
   "source": [
    "coefficients = pos_g.reindex(pos_g['coefficient'].abs().sort_values(ascending=False).index)\n",
    "print(coefficients[:10].to_string())"
   ]
  },
  {
   "cell_type": "markdown",
   "metadata": {},
   "source": [
    "## Top frequency counts for subpopulation\n",
    "The __count__ field is the number of co-occurrences of the dependent and independent values.  This is equivalent to the support metric in the association rules and conditional probabilities, with the added benefit of no minimum support.\n",
    "\n",
    "A variable value of __nan__ means that the field was blank."
   ]
  },
  {
   "cell_type": "code",
   "execution_count": null,
   "metadata": {},
   "outputs": [],
   "source": [
    "counts = pos_g.reindex(pos_g['count'].abs().sort_values(ascending=False).index)\n",
    "print(counts[:30].to_string())"
   ]
  },
  {
   "cell_type": "markdown",
   "metadata": {},
   "source": [
    "# Conditional Probabilities\n",
    "As with the Association Rules, the __LHS__ defines the subpopulation and the __RHS__ characterizes it.\n",
    "\n",
    "In the Season Stats data set, pos=G occurs with a frequency of .026.  Since the minimum support for conditional probabilites is .01, the results can capture rules for the subpopulation."
   ]
  },
  {
   "cell_type": "markdown",
   "metadata": {},
   "source": [
    "## Load Conditional Probabilities and create subpopulation"
   ]
  },
  {
   "cell_type": "code",
   "execution_count": null,
   "metadata": {},
   "outputs": [],
   "source": [
    "# classification results\n",
    "DATA_SET_NAME = 'Seasons_Stats_noindex_conditional_probabilities'\n",
    "\n",
    "# Read classification results\n",
    "pdf = pd.read_csv(DATA_DIR_NAME + DATA_SET_NAME + '.csv')\n",
    "\n",
    "# Create subpopulation defined by dependent value\n",
    "pos_g = pdf[pdf['LHS'] == 'pos=G']"
   ]
  },
  {
   "cell_type": "markdown",
   "metadata": {},
   "source": [
    "## Top ranking conditional probabilities by support\n",
    "The top ranking conditional probabilities are equivalent to those produced by the frequency count method, with the exception of additional metrics.  These are __confidence__ and __lift__.  Confidence explains how often the RHS value occurs in the subpopulation relative to other values of the same RHS variable.  Lift explains the relative frequency of the RHS in the subpopulation versus the general population."
   ]
  },
  {
   "cell_type": "code",
   "execution_count": null,
   "metadata": {},
   "outputs": [],
   "source": [
    "counts = pos_g.reindex(pos_g['support'].sort_values(ascending=False).index)\n",
    "print(counts[:30].to_string())"
   ]
  },
  {
   "cell_type": "markdown",
   "metadata": {},
   "source": [
    "# Conclusion\n",
    "Of the algorithms currently implemented, conditional probabilities is the best method for characterizing small subpopulations defined by a single variable value.   That is because conditional probabilities can use a lower support threshold than association rules and the results include lift and confidence metrics."
   ]
  },
  {
   "cell_type": "markdown",
   "metadata": {},
   "source": []
  }
 ],
 "metadata": {
  "kernelspec": {
   "display_name": "Python 3",
   "language": "python",
   "name": "python3"
  },
  "language_info": {
   "codemirror_mode": {
    "name": "ipython",
    "version": 3
   },
   "file_extension": ".py",
   "mimetype": "text/x-python",
   "name": "python",
   "nbconvert_exporter": "python",
   "pygments_lexer": "ipython3",
   "version": "3.5.4"
  }
 },
 "nbformat": 4,
 "nbformat_minor": 2
}

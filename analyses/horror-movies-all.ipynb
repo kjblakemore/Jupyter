{
 "cells": [
  {
   "cell_type": "code",
   "execution_count": null,
   "metadata": {},
   "outputs": [],
   "source": [
    "# TBD - update to new features format\n",
    "\n",
    "library(data.table)\n",
    "library(arules)\n",
    "library(arulesViz)\n",
    "\n",
    "DATA_DIR_NAME <- '/Users/karenblakemore/merck/data/'\n",
    "confidence <- .01\n",
    "\n",
    "# For association rules\n",
    "name_suffix <- '_association_rules.csv'\n",
    "maxlength <- 10\n",
    "support <- .0005\n",
    "\n",
    "DATA_SET_NAME <- 'tmdb_5000_movies_prepped'\n",
    "\n",
    "options(warn = -1)\n",
    "\n",
    "df <- read.csv(paste(DATA_DIR_NAME, DATA_SET_NAME, \"_features.csv\", sep=\"\"), na.strings=c(\"\"), check.names=FALSE)\n",
    "\n",
    "head(df)\n",
    "\n",
    "df[] <- lapply(df, factor) # All columns must be of type factor\n",
    "\n",
    "N <- nrow(df)             # save number of rows for results data set\n",
    "                                    \n",
    "head(df)\n",
    "\n",
    "sapply(df, class)"
   ]
  },
  {
   "cell_type": "code",
   "execution_count": null,
   "metadata": {},
   "outputs": [],
   "source": [
    "trans <- as(df, \"transactions\")\n",
    "inspect(head(trans))\n",
    "summary(trans)"
   ]
  },
  {
   "cell_type": "code",
   "execution_count": null,
   "metadata": {},
   "outputs": [],
   "source": [
    "itemsets <- eclat(trans, parameter = list(supp = support, maxlen=maxlength))\n",
    "inspect(head(sort(itemsets, by=\"support\")))\n",
    "summary(itemsets)"
   ]
  },
  {
   "cell_type": "code",
   "execution_count": null,
   "metadata": {},
   "outputs": [],
   "source": [
    "items.subsets <- subset(itemsets, subset = items %pin% \"revenue=\")\n",
    "items.subsets <- subset(items.subsets, subset = items %in% \"budget=[0, 38000000)\")\n",
    "items.subsets <- subset(items.subsets, subset = !(items %in% \"revenue=[0, 278796508)\"))\n",
    "inspect(head(sort(items.subsets, by=\"support\")))\n",
    "summary(items.subsets)"
   ]
  },
  {
   "cell_type": "code",
   "execution_count": null,
   "metadata": {},
   "outputs": [],
   "source": [
    "rules <- ruleInduction(items.subsets, trans, confidence=confidence, control=list(verbose=TRUE))"
   ]
  },
  {
   "cell_type": "code",
   "execution_count": null,
   "metadata": {},
   "outputs": [],
   "source": [
    "# Filter rows, keeping only those with lift > 1.1\n",
    "rules <- subset(rules, lift > 1.1)\n",
    "inspect(head(sort(rules, by=\"lift\")))\n",
    "summary(rules)"
   ]
  },
  {
   "cell_type": "code",
   "execution_count": null,
   "metadata": {},
   "outputs": [],
   "source": [
    "rules.revenue <- subset(rules, subset = rhs %pin% \"revenue=\")\n",
    "inspect(head(sort(rules.revenue, by=\"lift\")))\n",
    "summary(rules.revenue)"
   ]
  },
  {
   "cell_type": "code",
   "execution_count": null,
   "metadata": {},
   "outputs": [],
   "source": [
    "# Interactive Data Table\n",
    "p <- inspectDT(rules.revenue)\n",
    "htmlwidgets::saveWidget(p, \"rules.html\", selfcontained = FALSE)\n",
    "browseURL(\"rules.html\")"
   ]
  },
  {
   "cell_type": "code",
   "execution_count": null,
   "metadata": {},
   "outputs": [],
   "source": []
  }
 ],
 "metadata": {
  "kernelspec": {
   "display_name": "R",
   "language": "R",
   "name": "ir"
  },
  "language_info": {
   "codemirror_mode": "r",
   "file_extension": ".r",
   "mimetype": "text/x-r-source",
   "name": "R",
   "pygments_lexer": "r",
   "version": "3.5.1"
  }
 },
 "nbformat": 4,
 "nbformat_minor": 2
}

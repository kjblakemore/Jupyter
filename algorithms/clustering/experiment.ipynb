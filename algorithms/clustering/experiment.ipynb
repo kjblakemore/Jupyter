{
 "cells": [
  {
   "cell_type": "code",
   "execution_count": null,
   "metadata": {
    "scrolled": false
   },
   "outputs": [],
   "source": [
    "library(arules)\n",
    "library(arulesViz)\n",
    "\n",
    "DATA_DIR_NAME <- '/Users/karenblakemore/merck/data/'\n",
    "\n",
    "#DATA_SET_NAME <- 'adult_features'\n",
    "\n",
    "#DATA_SET_NAME <- 'hospital_readmission_features'\n",
    "\n",
    "#DATA_SET_NAME <- 'titanic_features'\n",
    "\n",
    "#DATA_SET_NAME <- 'tmdb_5000_movies_prepped_features'\n",
    "\n",
    "#DATA_SET_NAME <- 'tmdb_5000_movies_horror_features'\n",
    "\n",
    "DATA_SET_NAME <- 'movie_metadata_clean_prepped_features'\n",
    "\n",
    "options(warn = -1)\n",
    "\n",
    "df <- read.csv(paste(DATA_DIR_NAME, DATA_SET_NAME, \".csv\", sep=\"\"), na.strings=c(\"\"), check.names=FALSE)\n",
    "head(df)\n",
    "df <- df[df$\"_row_type_\" == \"Set 2\",]  # feature set with binned numeric \n",
    "df$\"_row_type_\" <- NULL\n",
    "\n",
    "# Unused columns of adult_features data set\n",
    "#df$fnlwgt <- NULL\n",
    "#df$capital.gain <- NULL\n",
    "#df$capital.loss <- NULL\n",
    "#df$education.num <- NULL\n",
    "\n",
    "# Unused columns of hospital_readmissions data set\n",
    "#df$address <- NULL\n",
    "#df$'zip code' <- NULL\n",
    "#df$'provider id - provider number' <- NULL\n",
    "\n",
    "# Unused columns of titanic_features data set\n",
    "#df$passengerid <- NULL\n",
    "#df$name <- NULL\n",
    "#df$ticket <- NULL\n",
    "#df$cabin <- NULL\n",
    "#df$fare <- NULL\n",
    "\n",
    "# The first class tickets ranged enormously in price, from $150 (about $1700 today) for a simple berth, \n",
    "# up to $4350 ($50,000) for one of the two Parlour suites. Second class tickets were $60 (around $700) \n",
    "# and third class passengers paid between $15 and $40 ($170 - £460).\n",
    "\n",
    "# Unused columns of tmdb_5000_movies_prepped\n",
    "#df$homepage <- NULL\n",
    "#df$id <- NULL\n",
    "#df$overview <- NULL\n",
    "#df$tagline <- NULL\n",
    "#df$original_title <- NULL\n",
    "\n",
    "# Unused columns of movie_metadata_clean_prepped\n",
    "df$movie_imdb_link <- NULL\n",
    "\n",
    "head(df)\n",
    "\n",
    "df[] <- lapply(df, factor) # All columns must be of type factor\n",
    "\n",
    "N <- nrow(df)             # save number of rows for results data set\n",
    "                                    \n",
    "head(df)\n",
    "\n",
    "N"
   ]
  },
  {
   "cell_type": "code",
   "execution_count": null,
   "metadata": {
    "scrolled": true
   },
   "outputs": [],
   "source": [
    "trans <- as(df, \"transactions\")\n",
    "inspect(head(trans))\n",
    "summary(trans)"
   ]
  },
  {
   "cell_type": "code",
   "execution_count": null,
   "metadata": {
    "scrolled": true
   },
   "outputs": [],
   "source": [
    "s <- trans\n",
    "\n",
    "## calculate affinity-based distances between transactions and do hclust\n",
    "d_affinity <- dissimilarity(s, method = \"affinity\")\n",
    "hc <- hclust(d_affinity, method = \"ward.D2\")\n",
    "\n",
    "## get clusters and look at the difference of the item frequencies (bars)\n",
    "## for the top 20 items) in cluster i compared to the data (line)\n",
    "assign <- cutree(hc, 10)\n",
    "for (i in 1:10) {\n",
    "    print(i)\n",
    "    itemFrequencyPlot(s[assign==i], population=s, topN=20)\n",
    "}"
   ]
  },
  {
   "cell_type": "code",
   "execution_count": null,
   "metadata": {
    "scrolled": true
   },
   "outputs": [],
   "source": [
    "print(i)\n",
    "    \n",
    "itemsets <- eclat(s[assign==1], parameter = list(supp = .2, maxlen=5))\n",
    "inspect(head(sort(itemsets, by=\"support\")))\n",
    "summary(itemsets)\n",
    "\n",
    "rules <- ruleInduction(itemsets, s, confidence=.5, control=list(verbose=TRUE))\n",
    "\n",
    "rules <- subset(rules, lift > 1.1)\n",
    "summary(rules)\n",
    "\n",
    "#inspect(sort(rules, by='lift'))\n",
    "plot(rules, method='graph', engine='htmlwidget')"
   ]
  },
  {
   "cell_type": "code",
   "execution_count": null,
   "metadata": {
    "scrolled": false
   },
   "outputs": [],
   "source": [
    "s <- trans\n",
    "itemsets <- eclat(s[assign==2], parameter = list(supp = .2, maxlen=10))\n",
    "inspect(head(sort(itemsets, by=\"support\")))\n",
    "summary(itemsets)\n",
    "\n",
    "rules <- ruleInduction(itemsets, s, confidence=.5, control=list(verbose=TRUE)1\n",
    "\n",
    "rules <- subset(rules, lift > 1.1)\n",
    "summary(rules)\n",
    "\n",
    "inspect(sort(rules, by='lift'))\n",
    "plot(rules, method='graph', engine='htmlwidget')"
   ]
  },
  {
   "cell_type": "code",
   "execution_count": null,
   "metadata": {
    "scrolled": false
   },
   "outputs": [],
   "source": [
    "s <- trans\n",
    "itemsets <- eclat(s[assign==3], parameter = list(supp = .1, maxlen=10))\n",
    "inspect(head(sort(itemsets, by=\"support\")))\n",
    "summary(itemsets)\n",
    "\n",
    "rules <- ruleInduction(itemsets, s, confidence=.5, control=list(verbose=TRUE))\n",
    "\n",
    "rules <- subset(rules, lift > 1.1)\n",
    "summary(rules)\n",
    "\n",
    "inspect(sort(rules, by='lift'))\n",
    "plot(rules, method='graph', engine='htmlwidget')"
   ]
  },
  {
   "cell_type": "code",
   "execution_count": null,
   "metadata": {
    "scrolled": false
   },
   "outputs": [],
   "source": [
    "s <- trans\n",
    "itemsets <- eclat(s[assign==4], parameter = list(supp = .1, maxlen=10))\n",
    "inspect(head(sort(itemsets, by=\"support\")))\n",
    "summary(itemsets)\n",
    "\n",
    "rules <- ruleInduction(itemsets, s, confidence=.5, control=list(verbose=TRUE))\n",
    "\n",
    "rules <- subset(rules, lift > 1.1)\n",
    "summary(rules)\n",
    "\n",
    "inspect(sort(rules, by='lift'))\n",
    "plot(rules, method='graph', engine='htmlwidget')"
   ]
  }
 ],
 "metadata": {
  "kernelspec": {
   "display_name": "R",
   "language": "R",
   "name": "ir"
  },
  "language_info": {
   "codemirror_mode": "r",
   "file_extension": ".r",
   "mimetype": "text/x-r-source",
   "name": "R",
   "pygments_lexer": "r",
   "version": "3.5.1"
  }
 },
 "nbformat": 4,
 "nbformat_minor": 2
}

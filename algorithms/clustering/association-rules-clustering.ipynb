{
 "cells": [
  {
   "cell_type": "markdown",
   "metadata": {},
   "source": [
    "# Clustering of Association Rule\n",
    "Clustering LHS vectors by lift, using a hierarchical algorithm."
   ]
  },
  {
   "cell_type": "code",
   "execution_count": null,
   "metadata": {},
   "outputs": [],
   "source": [
    "import pandas as pd\n",
    "\n",
    "from sklearn.cluster import AgglomerativeClustering"
   ]
  },
  {
   "cell_type": "code",
   "execution_count": null,
   "metadata": {},
   "outputs": [],
   "source": [
    "DATA_DIR_NAME = '/Users/karenblakemore/merck/data/'\n",
    "\n",
    "#DATA_SET_NAME = 'titanic'\n",
    "#DATA_SET_NAME = 'Seasons_Stats_noindex'\n",
    "DATA_SET_NAME = 'Bus_Breakdown_and_Delays_prepped'\n",
    "\n",
    "pdf = pd.read_csv(DATA_DIR_NAME + DATA_SET_NAME + '_association_rules.csv')\n",
    "\n",
    "print(pdf.shape)\n",
    "print(pdf.dtypes)\n",
    "print(pdf.info())\n",
    "display(pdf.head())"
   ]
  },
  {
   "cell_type": "code",
   "execution_count": null,
   "metadata": {},
   "outputs": [],
   "source": [
    "X = pdf[['lift', 'LHS', 'RHS']].pivot(values='lift', index='LHS', columns='RHS').fillna(1.0)\n",
    "display(X.head())\n",
    "print(X.shape)"
   ]
  },
  {
   "cell_type": "code",
   "execution_count": null,
   "metadata": {},
   "outputs": [],
   "source": [
    "model = AgglomerativeClustering(n_clusters=20)\n",
    "y = model.fit_predict(X)\n",
    "print(y)"
   ]
  },
  {
   "cell_type": "code",
   "execution_count": null,
   "metadata": {},
   "outputs": [],
   "source": [
    "pdf['cluster_lift'] = pdf['LHS'].apply(lambda x: y[X.index.get_loc(x)] + 1)\n",
    "display(pdf.head())\n",
    "means = pdf[['lift', 'cluster_lift']].groupby('cluster_lift').mean()\n",
    "means = means.rename(columns = {'lift': 'lift_cluster_lift'})\n",
    "display(means)\n",
    "display(means.index.tolist())\n",
    "pdf = pdf.merge(means, left_on = 'cluster_lift', right_on = 'cluster_lift')\n",
    "display(pdf.head())"
   ]
  },
  {
   "cell_type": "code",
   "execution_count": null,
   "metadata": {},
   "outputs": [],
   "source": [
    "pdf.to_csv(DATA_DIR_NAME + DATA_SET_NAME + '_association_rules.csv', index=False)"
   ]
  }
 ],
 "metadata": {
  "kernelspec": {
   "display_name": "Python 3",
   "language": "python",
   "name": "python3"
  },
  "language_info": {
   "codemirror_mode": {
    "name": "ipython",
    "version": 3
   },
   "file_extension": ".py",
   "mimetype": "text/x-python",
   "name": "python",
   "nbconvert_exporter": "python",
   "pygments_lexer": "ipython3",
   "version": "3.5.4"
  }
 },
 "nbformat": 4,
 "nbformat_minor": 2
}
